{
 "cells": [
  {
   "cell_type": "markdown",
   "metadata": {},
   "source": [
    "<font color=black size=5 face=雅黑>**6.文件读写**</font>\n",
    "\n",
    "<font color=black size=3 face=雅黑>**Python内置了读写文件的函数：open，返回文件对象，** </font>\n",
    "\n",
    "<font color=black size=3 face=雅黑>**通常的用法需要的三个参数：open(filename,mode,encoding)。** </font> \n",
    "\n",
    "-filename:包含了你要访问的文件名称的字符串值。  \n",
    "-mode:决定了打开文件的模式（r:只读、w:写入、a:追加；*b:二进制的形势操作）。  \n",
    "-encoding:打开文件的编码格式，默认为utf8。  \n",
    "\n",
    "示例：f = open(\"file_name\",\"r\",encoding=\"utf8\")#以只读的方式打开文件file_name,编码格式为utf8。"
   ]
  },
  {
   "cell_type": "code",
   "execution_count": 1,
   "metadata": {},
   "outputs": [
    {
     "name": "stdin",
     "output_type": "stream",
     "text": [
      "请输入要写入的内容： python\n"
     ]
    }
   ],
   "source": [
    "f = open(\"text.txt\",'w') #打开文件text.txt,当文件不存在时会新建一个。\n",
    "Str = input(\"请输入要写入的内容：\")\n",
    "f.write(Str)\n",
    "f.close()"
   ]
  },
  {
   "cell_type": "code",
   "execution_count": 2,
   "metadata": {},
   "outputs": [
    {
     "name": "stdout",
     "output_type": "stream",
     "text": [
      "python\n",
      "\n"
     ]
    }
   ],
   "source": [
    "f = open(\"text.txt\",'r')\n",
    "print(f.read(6)) #读取六个字符，当前光标后移六个字符\n",
    "print(f.read()) #读取光标所在位置至最后\n",
    "f.close()"
   ]
  },
  {
   "cell_type": "code",
   "execution_count": 3,
   "metadata": {},
   "outputs": [
    {
     "name": "stdout",
     "output_type": "stream",
     "text": [
      "python文件操作\n"
     ]
    }
   ],
   "source": [
    "# 使用with语句进行文件写入\n",
    "with open(\"text1.txt\",'w') as f:\n",
    "    f.write(\"python文件操作\")\n",
    "with open(\"text1.txt\",'r') as f:\n",
    "    print(f.read())"
   ]
  },
  {
   "cell_type": "markdown",
   "metadata": {},
   "source": [
    "<font color=black size=5 face=雅黑>**7.异常捕获**</font>\n",
    "\n",
    "<font color=black size=3 face=雅黑>**程序出现问题无法执行时大多分为两种情况：**</font>\n",
    "\n",
    "-编码错误：代码编写时（运行前）出现问题。  \n",
    "-异常：在运行时出现错误（比如被除数为零、列表的下标越界、修改字符串等）。"
   ]
  },
  {
   "cell_type": "code",
   "execution_count": 4,
   "metadata": {},
   "outputs": [
    {
     "ename": "ZeroDivisionError",
     "evalue": "division by zero",
     "output_type": "error",
     "traceback": [
      "\u001b[1;31m---------------------------------------------------------------------------\u001b[0m",
      "\u001b[1;31mZeroDivisionError\u001b[0m                         Traceback (most recent call last)",
      "\u001b[1;32m<ipython-input-4-2fc232d1511a>\u001b[0m in \u001b[0;36m<module>\u001b[1;34m\u001b[0m\n\u001b[1;32m----> 1\u001b[1;33m \u001b[0mprint\u001b[0m\u001b[1;33m(\u001b[0m\u001b[1;36m1\u001b[0m\u001b[1;33m/\u001b[0m\u001b[1;36m0\u001b[0m\u001b[1;33m)\u001b[0m\u001b[1;33m\u001b[0m\u001b[1;33m\u001b[0m\u001b[0m\n\u001b[0m",
      "\u001b[1;31mZeroDivisionError\u001b[0m: division by zero"
     ]
    }
   ],
   "source": [
    "print(1/0)"
   ]
  },
  {
   "cell_type": "code",
   "execution_count": 5,
   "metadata": {},
   "outputs": [
    {
     "name": "stdout",
     "output_type": "stream",
     "text": [
      "division by zero\n"
     ]
    }
   ],
   "source": [
    "#使用try except 捕获异常\n",
    "try:\n",
    "    print(1/0)\n",
    "except Exception as e:\n",
    "    print(e)"
   ]
  },
  {
   "cell_type": "markdown",
   "metadata": {},
   "source": [
    "<font color=black size=5 face=雅黑>**8.常用工具库**</font>\n",
    "\n",
    "<font color=black size=3 face=雅黑>**Python中的常用工具库可以分为两种**</font>\n",
    "\n",
    "-标准库：安装Python以后可以直接使用的。如：os,sys,time等模块。  \n",
    "-第三方库：需要安装以后才可以使用的库。如：numpy(用于科学计算),pandas(用于数据处理),sckit-learn(机器学习库)\n",
    "\n",
    "<font color=black size=4 face=雅黑>**sys模块的使用**</font>\n",
    "\n",
    "sys模块负责程序与Python解释器的交互，提供了一系列的函数和变量，用于操控Python运行时的环境。"
   ]
  },
  {
   "cell_type": "code",
   "execution_count": 6,
   "metadata": {},
   "outputs": [
    {
     "name": "stdout",
     "output_type": "stream",
     "text": [
      "0\n",
      "1\n",
      "2\n",
      "3\n",
      "4\n",
      "5\n"
     ]
    },
    {
     "ename": "SystemExit",
     "evalue": "0",
     "output_type": "error",
     "traceback": [
      "An exception has occurred, use %tb to see the full traceback.\n",
      "\u001b[1;31mSystemExit\u001b[0m\u001b[1;31m:\u001b[0m 0\n"
     ]
    },
    {
     "name": "stderr",
     "output_type": "stream",
     "text": [
      "D:\\Anaconda\\lib\\site-packages\\IPython\\core\\interactiveshell.py:3445: UserWarning: To exit: use 'exit', 'quit', or Ctrl-D.\n",
      "  warn(\"To exit: use 'exit', 'quit', or Ctrl-D.\", stacklevel=1)\n"
     ]
    }
   ],
   "source": [
    "#sys.exit([n]):此方法可以使当前程序退出，n为0时表示正常退出，其他值表示异常退出。\n",
    "import sys\n",
    "for i in range(100):\n",
    "    print(i)\n",
    "    if i == 5:\n",
    "        sys.exit(0)"
   ]
  },
  {
   "cell_type": "code",
   "execution_count": 7,
   "metadata": {},
   "outputs": [
    {
     "data": {
      "text/plain": [
       "['C:\\\\Users\\\\dlt\\\\Desktop\\\\python',\n",
       " 'D:\\\\Anaconda\\\\python38.zip',\n",
       " 'D:\\\\Anaconda\\\\DLLs',\n",
       " 'D:\\\\Anaconda\\\\lib',\n",
       " 'D:\\\\Anaconda',\n",
       " '',\n",
       " 'D:\\\\Anaconda\\\\lib\\\\site-packages',\n",
       " 'D:\\\\Anaconda\\\\lib\\\\site-packages\\\\win32',\n",
       " 'D:\\\\Anaconda\\\\lib\\\\site-packages\\\\win32\\\\lib',\n",
       " 'D:\\\\Anaconda\\\\lib\\\\site-packages\\\\Pythonwin',\n",
       " 'D:\\\\Anaconda\\\\lib\\\\site-packages\\\\IPython\\\\extensions',\n",
       " 'C:\\\\Users\\\\dlt\\\\.ipython']"
      ]
     },
     "execution_count": 7,
     "metadata": {},
     "output_type": "execute_result"
    }
   ],
   "source": [
    "#sys.path:获取模块搜索路径。\n",
    "sys.path"
   ]
  },
  {
   "cell_type": "code",
   "execution_count": 8,
   "metadata": {},
   "outputs": [
    {
     "data": {
      "text/plain": [
       "'win32'"
      ]
     },
     "execution_count": 8,
     "metadata": {},
     "output_type": "execute_result"
    }
   ],
   "source": [
    "#sys.platform:获取当前系统平台\n",
    "sys.platform"
   ]
  },
  {
   "cell_type": "markdown",
   "metadata": {},
   "source": [
    "<font color=black size=4 face=雅黑>**os模块的使用**</font>\n",
    "\n",
    "os模块负责程序与操作系统的交互，提供了访问操作系统底层的接口。"
   ]
  },
  {
   "cell_type": "code",
   "execution_count": 9,
   "metadata": {},
   "outputs": [
    {
     "name": "stdout",
     "output_type": "stream",
     "text": [
      "当前进程的ID:  25068\n",
      "当前父进程的ID:  19340\n",
      "当前所在路径为:  C:\\Users\\dlt\\Desktop\\python\n",
      "修改后当前所在路径为:  C:\\\n",
      "当前目录下的文件有:  ['.ipynb_checkpoints', '.vscode', 'Python基础语法.ipynb', 'Python数据结构.ipynb', 'text.txt', 'text1.txt', '文件读写与异常捕获.ipynb']\n",
      "C:\\Users\\dlt\\Desktop\\python\\.ipynb_checkpoints\\Python基础语法-checkpoint.ipynb\n",
      "C:\\Users\\dlt\\Desktop\\python\\.ipynb_checkpoints\\Python数据结构-checkpoint.ipynb\n",
      "C:\\Users\\dlt\\Desktop\\python\\.ipynb_checkpoints\\文件读写与异常捕获-checkpoint.ipynb\n",
      "C:\\Users\\dlt\\Desktop\\python\\.vscode\\settings.json\n",
      "C:\\Users\\dlt\\Desktop\\python\\Python基础语法.ipynb\n",
      "C:\\Users\\dlt\\Desktop\\python\\Python数据结构.ipynb\n",
      "C:\\Users\\dlt\\Desktop\\python\\text.txt\n",
      "C:\\Users\\dlt\\Desktop\\python\\text1.txt\n",
      "C:\\Users\\dlt\\Desktop\\python\\文件读写与异常捕获.ipynb\n",
      "C:\\Users\\dlt\\Desktop\\python\\.ipynb_checkpoints\n",
      "C:\\Users\\dlt\\Desktop\\python\\.vscode\n"
     ]
    }
   ],
   "source": [
    "import os\n",
    "#os.getpid():获取当前进程id\n",
    "print(\"当前进程的ID: \",os.getpid())\n",
    "\n",
    "#os.getppid():获取当前父进程id\n",
    "print(\"当前父进程的ID: \",os.getppid())\n",
    "\n",
    "#os.getcwd():获取当前所在路径\n",
    "cwd = os.getcwd()\n",
    "print(\"当前所在路径为: \",cwd)\n",
    "\n",
    "#os.chdir(path):改变当前工作目录\n",
    "os.chdir(\"C:\\\\\")\n",
    "print(\"修改后当前所在路径为: \",os.getcwd())\n",
    "\n",
    "#os.listdir():返回目录下所有文件\n",
    "print(\"当前目录下的文件有: \",os.listdir(cwd))\n",
    "\n",
    "#os.walk():输出当前路径下的所有文件\n",
    "for root, dirs, files in os.walk(cwd, topdown=False):\n",
    "    for name in files:\n",
    "        print(os.path.join(root, name))\n",
    "    for name in dirs:\n",
    "        print(os.path.join(root, name))"
   ]
  },
  {
   "cell_type": "code",
   "execution_count": 10,
   "metadata": {},
   "outputs": [
    {
     "name": "stdout",
     "output_type": "stream",
     "text": [
      "text.txt的绝对路径为:  C:\\text.txt\n",
      "text.txt是否存在:  False\n"
     ]
    },
    {
     "ename": "FileNotFoundError",
     "evalue": "[WinError 2] 系统找不到指定的文件。: 'text.txt'",
     "output_type": "error",
     "traceback": [
      "\u001b[1;31m---------------------------------------------------------------------------\u001b[0m",
      "\u001b[1;31mFileNotFoundError\u001b[0m                         Traceback (most recent call last)",
      "\u001b[1;32m<ipython-input-10-155ee58080c1>\u001b[0m in \u001b[0;36m<module>\u001b[1;34m\u001b[0m\n\u001b[0;32m      8\u001b[0m \u001b[1;33m\u001b[0m\u001b[0m\n\u001b[0;32m      9\u001b[0m \u001b[1;31m#os.path.getsize(path):返回文件大小，如果文件不存在就返回错误\u001b[0m\u001b[1;33m\u001b[0m\u001b[1;33m\u001b[0m\u001b[1;33m\u001b[0m\u001b[0m\n\u001b[1;32m---> 10\u001b[1;33m \u001b[0mprint\u001b[0m\u001b[1;33m(\u001b[0m\u001b[1;34m\"text.txt的文件大小: \"\u001b[0m\u001b[1;33m,\u001b[0m\u001b[0mos\u001b[0m\u001b[1;33m.\u001b[0m\u001b[0mpath\u001b[0m\u001b[1;33m.\u001b[0m\u001b[0mgetsize\u001b[0m\u001b[1;33m(\u001b[0m\u001b[1;34m\"text.txt\"\u001b[0m\u001b[1;33m)\u001b[0m\u001b[1;33m)\u001b[0m\u001b[1;33m\u001b[0m\u001b[1;33m\u001b[0m\u001b[0m\n\u001b[0m\u001b[0;32m     11\u001b[0m \u001b[1;33m\u001b[0m\u001b[0m\n\u001b[0;32m     12\u001b[0m \u001b[1;31m#os.path.isfile(path):判断路径是否为文件\u001b[0m\u001b[1;33m\u001b[0m\u001b[1;33m\u001b[0m\u001b[1;33m\u001b[0m\u001b[0m\n",
      "\u001b[1;32mD:\\Anaconda\\lib\\genericpath.py\u001b[0m in \u001b[0;36mgetsize\u001b[1;34m(filename)\u001b[0m\n\u001b[0;32m     48\u001b[0m \u001b[1;32mdef\u001b[0m \u001b[0mgetsize\u001b[0m\u001b[1;33m(\u001b[0m\u001b[0mfilename\u001b[0m\u001b[1;33m)\u001b[0m\u001b[1;33m:\u001b[0m\u001b[1;33m\u001b[0m\u001b[1;33m\u001b[0m\u001b[0m\n\u001b[0;32m     49\u001b[0m     \u001b[1;34m\"\"\"Return the size of a file, reported by os.stat().\"\"\"\u001b[0m\u001b[1;33m\u001b[0m\u001b[1;33m\u001b[0m\u001b[0m\n\u001b[1;32m---> 50\u001b[1;33m     \u001b[1;32mreturn\u001b[0m \u001b[0mos\u001b[0m\u001b[1;33m.\u001b[0m\u001b[0mstat\u001b[0m\u001b[1;33m(\u001b[0m\u001b[0mfilename\u001b[0m\u001b[1;33m)\u001b[0m\u001b[1;33m.\u001b[0m\u001b[0mst_size\u001b[0m\u001b[1;33m\u001b[0m\u001b[1;33m\u001b[0m\u001b[0m\n\u001b[0m\u001b[0;32m     51\u001b[0m \u001b[1;33m\u001b[0m\u001b[0m\n\u001b[0;32m     52\u001b[0m \u001b[1;33m\u001b[0m\u001b[0m\n",
      "\u001b[1;31mFileNotFoundError\u001b[0m: [WinError 2] 系统找不到指定的文件。: 'text.txt'"
     ]
    }
   ],
   "source": [
    "#os.path模块：主要用于获取文件的属性。\n",
    "import os\n",
    "#os.path.abspath(path):返回绝对路径\n",
    "print(\"text.txt的绝对路径为: \",os.path.abspath(\"text.txt\"))\n",
    "\n",
    "#os.path.exists(path):文件存在则返回True,不存在则返回False\n",
    "print(\"text.txt是否存在: \",os.path.exists(\"text.txt\"))\n",
    "\n",
    "#os.path.getsize(path):返回文件大小，如果文件不存在就返回错误\n",
    "print(\"text.txt的文件大小: \",os.path.getsize(\"text.txt\"))\n",
    "\n",
    "#os.path.isfile(path):判断路径是否为文件\n",
    "print(\"text.txt是否为文件: \",os.path.isfile(\"text.txt\"))\n",
    "\n",
    "#os.path.isdir(path):判断路径是否为文件夹\n",
    "print(\"text.txt是否为文件夹: \",os.path.isdir(\"text.txt\"))"
   ]
  },
  {
   "cell_type": "markdown",
   "metadata": {},
   "source": [
    "<font color=black size=4 face=雅黑>**time模块的使用**</font>\n",
    "\n",
    "time模块是Python中处理时间的一个重要模块，包含了许多的有关时间的操作方法。"
   ]
  },
  {
   "cell_type": "code",
   "execution_count": 11,
   "metadata": {},
   "outputs": [
    {
     "name": "stdout",
     "output_type": "stream",
     "text": [
      "时间戳:  1624868634.3253317\n",
      "本地时间为:  time.struct_time(tm_year=2021, tm_mon=6, tm_mday=28, tm_hour=16, tm_min=23, tm_sec=54, tm_wday=0, tm_yday=179, tm_isdst=0)\n",
      "本地时间为:  Mon Jun 28 16:23:54 2021\n",
      "2021-06-28 16:23:54\n"
     ]
    }
   ],
   "source": [
    "import time\n",
    "#time.time():用于获取当前时间戳\n",
    "time_now = time.time()\n",
    "print(\"时间戳: \", time_now)\n",
    "\n",
    "#time.localtime():获取时间元组\n",
    "localtime = time.localtime(time_now)\n",
    "print(\"本地时间为: \", localtime)\n",
    "\n",
    "#time.asctime():获取格式化的时间\n",
    "localtime = time.asctime(localtime)\n",
    "print(\"本地时间为: \", localtime)\n",
    "\n",
    "#time.strftime(format[,t]):接收时间元组，并返回以可读字符串表示的当地时间，格式由参数format决定。\n",
    "print(time.strftime(\"%Y-%m-%d %H:%M:%S\", time.localtime()))"
   ]
  },
  {
   "cell_type": "code",
   "execution_count": null,
   "metadata": {},
   "outputs": [],
   "source": []
  }
 ],
 "metadata": {
  "kernelspec": {
   "display_name": "Python 3",
   "language": "python",
   "name": "python3"
  },
  "language_info": {
   "codemirror_mode": {
    "name": "ipython",
    "version": 3
   },
   "file_extension": ".py",
   "mimetype": "text/x-python",
   "name": "python",
   "nbconvert_exporter": "python",
   "pygments_lexer": "ipython3",
   "version": "3.8.8"
  }
 },
 "nbformat": 4,
 "nbformat_minor": 4
}
