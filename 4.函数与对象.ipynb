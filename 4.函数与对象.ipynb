{
 "cells": [
  {
   "cell_type": "markdown",
   "metadata": {},
   "source": [
    "# 4.函数\n",
    "\n",
    "Python中除了内置的函数以外，还可以使用关键字def和lambda来定义\n",
    "\n",
    "### 4.1自定义函数def\n",
    "\n",
    "自定义一个函数，返回一个序列。序列中每个数字都是前两个数字之和(斐波那契数列)。"
   ]
  },
  {
   "cell_type": "code",
   "execution_count": 2,
   "metadata": {},
   "outputs": [
    {
     "data": {
      "text/plain": [
       "[0, 1, 1, 2, 3]"
      ]
     },
     "execution_count": 2,
     "metadata": {},
     "output_type": "execute_result"
    }
   ],
   "source": [
    "def fibs(num): #位置参数\n",
    "    result = [0,1] #新建列表存储数列的值\n",
    "    for i in range(2,num): #循环num-2次\n",
    "        a = result[i-1] + result[i-2]\n",
    "        result.append(a) #将值追加至列表\n",
    "    return result #返回列表\n",
    "fibs(5)"
   ]
  },
  {
   "cell_type": "markdown",
   "metadata": {},
   "source": [
    "自定义函数，打印不同方式传入的参数。\n",
    "\n",
    "-必备参数：必备参数须以正确的顺序传入函数，调用时的数量必须和声明时的一样。\n",
    "\n",
    "-关键字参数：函数调用时使用等号赋值的形势传入参数。\n",
    "\n",
    "-默认参数：调用参数时，缺省参数的值如果没有传入，则被认为是默认值。\n",
    "\n",
    "-不定长参数：有时可能需要一个函数能处理比当初声明时更多的参数，这些参数叫做不定长参数，声明时不会命名。args,\\*kwargs:加了星号()的变量args会存放所有未命名的变量参数，args为元组，而加\\*的kwargs会存放命名参数，即形如key=value的参数，kwargs为字典。"
   ]
  },
  {
   "cell_type": "code",
   "execution_count": 3,
   "metadata": {},
   "outputs": [
    {
     "name": "stdout",
     "output_type": "stream",
     "text": [
      "4\n",
      "()\n",
      "4\n",
      "()\n",
      "3\n",
      "()\n",
      "3\n",
      "(3, 4, 5)\n"
     ]
    }
   ],
   "source": [
    "def func(a=1, b=2, *args):\n",
    "    print(a+b)\n",
    "    print(args)\n",
    "    \n",
    "#必备参数\n",
    "func(0,4)\n",
    "\n",
    "#关键字参数\n",
    "func(b=4,a=0)\n",
    "\n",
    "#默认参数\n",
    "func()\n",
    "\n",
    "#不定长参数\n",
    "func(1,2,3,4,5)"
   ]
  },
  {
   "cell_type": "markdown",
   "metadata": {},
   "source": [
    "lambda来创建匿名函数。相较于普通函数而言，匿名函数只是一个表达式，函数体比def简单很多仅仅能在lambda表达式中封装有限的逻辑进去"
   ]
  },
  {
   "cell_type": "code",
   "execution_count": 6,
   "metadata": {},
   "outputs": [
    {
     "data": {
      "text/plain": [
       "3"
      ]
     },
     "execution_count": 6,
     "metadata": {},
     "output_type": "execute_result"
    }
   ],
   "source": [
    "a = lambda x,y:x+y #lambda参数：表达式\n",
    "a(1,2) #调用函数"
   ]
  },
  {
   "cell_type": "markdown",
   "metadata": {},
   "source": [
    "# 5.面向对象def\n",
    "\n",
    "面向对象：把数据和对数据的操作方法放在一起，作为一个相互依存的整体———对象。把计算机程序视为一组对象的集合，而每个对象都可以接收其他对象发过来的消息，并处理这些消息，计算机程序的执行就是一系列消息在各个对象之间传递。\n",
    "\n",
    "面向对象的优势：\n",
    "\n",
    "-提高代码复用性。  \n",
    "-使程序的编码更加灵活，提高了代码的可维护性。   \n",
    "-提高程序的可扩展性。  \n",
    "-提高开发效率。 \n",
    "\n",
    "#### Python中创建类使用关键字class，并且具备封装、多态和继承的特点。\n",
    "\n",
    "\n",
    "-封装：封装是一个概念，它的含义是把方法、属性、事件集中到一个统一的类中，并对使用者屏蔽其中的细节。  \n",
    "\n",
    "-继承：是一种创建类的方法，在现有类(被继承的类)基础上，进行扩展生成新的类,被称为子类。被继承的类称为父类、基类、超类。  \n",
    "\n",
    "-多态：一个同样的函数对于不同的对象可以具有不同的实现。"
   ]
  },
  {
   "cell_type": "code",
   "execution_count": 11,
   "metadata": {},
   "outputs": [],
   "source": [
    "class Person(object): #class 类名(父类)，在py3中所有的类默认继承object\n",
    "    def __init__(self,age,name): #self:指实例化的对象\n",
    "        #_init_方法对象初始化时调用的方法\n",
    "        self.age = age #类属性\n",
    "        self.name= name\n",
    "    def func(self): #方法\n",
    "        print(\"my name is %s\"%(self.name))"
   ]
  },
  {
   "cell_type": "code",
   "execution_count": 12,
   "metadata": {},
   "outputs": [
    {
     "name": "stdout",
     "output_type": "stream",
     "text": [
      "18\n",
      "my name is 张三\n"
     ]
    }
   ],
   "source": [
    "#实例化对象\n",
    "p1 = Person(age=\"18\",name=\"张三\")\n",
    "print(p1.age)\n",
    "p1.func()"
   ]
  },
  {
   "cell_type": "markdown",
   "metadata": {},
   "source": [
    "#### Python是一门动态语言"
   ]
  },
  {
   "cell_type": "code",
   "execution_count": 14,
   "metadata": {},
   "outputs": [],
   "source": [
    "p1.ID = 2020001"
   ]
  },
  {
   "cell_type": "code",
   "execution_count": 15,
   "metadata": {},
   "outputs": [
    {
     "name": "stdout",
     "output_type": "stream",
     "text": [
      "2020001\n"
     ]
    },
    {
     "ename": "AttributeError",
     "evalue": "type object 'Person' has no attribute 'ID'",
     "output_type": "error",
     "traceback": [
      "\u001b[1;31m---------------------------------------------------------------------------\u001b[0m",
      "\u001b[1;31mAttributeError\u001b[0m                            Traceback (most recent call last)",
      "\u001b[1;32m<ipython-input-15-b1d2b85a9b1d>\u001b[0m in \u001b[0;36m<module>\u001b[1;34m\u001b[0m\n\u001b[0;32m      1\u001b[0m \u001b[0mprint\u001b[0m\u001b[1;33m(\u001b[0m\u001b[0mp1\u001b[0m\u001b[1;33m.\u001b[0m\u001b[0mID\u001b[0m\u001b[1;33m)\u001b[0m\u001b[1;33m\u001b[0m\u001b[1;33m\u001b[0m\u001b[0m\n\u001b[1;32m----> 2\u001b[1;33m \u001b[0mprint\u001b[0m\u001b[1;33m(\u001b[0m\u001b[0mPerson\u001b[0m\u001b[1;33m.\u001b[0m\u001b[0mID\u001b[0m\u001b[1;33m)\u001b[0m\u001b[1;33m\u001b[0m\u001b[1;33m\u001b[0m\u001b[0m\n\u001b[0m",
      "\u001b[1;31mAttributeError\u001b[0m: type object 'Person' has no attribute 'ID'"
     ]
    }
   ],
   "source": [
    "print(p1.ID)\n",
    "print(Person.ID)"
   ]
  },
  {
   "cell_type": "code",
   "execution_count": 16,
   "metadata": {},
   "outputs": [],
   "source": [
    "#继承\n",
    "class Man(Person):\n",
    "    pass"
   ]
  },
  {
   "cell_type": "code",
   "execution_count": 18,
   "metadata": {},
   "outputs": [
    {
     "name": "stdout",
     "output_type": "stream",
     "text": [
      "my name is 李四\n"
     ]
    }
   ],
   "source": [
    "m = Man(age=\"19\",name=\"李四\")\n",
    "m.func()"
   ]
  },
  {
   "cell_type": "markdown",
   "metadata": {},
   "source": [
    "#### 默认情况下，属性在Python中都是\"public\"，类所在模块和导入了类所在模块的其他模块都可以访问到，如果类中的某些属性不想被外界访问或者继承可以对其私有化。\n",
    "\n",
    "-在属性或方法前加上一个下划线，可以防止模块的属性用\"from mymodule import \"来加载，它只可以在本模块中使用。  \n",
    "\n",
    "-在方法或属性前加双下划线，可以实现完全私有化."
   ]
  },
  {
   "cell_type": "code",
   "execution_count": null,
   "metadata": {},
   "outputs": [],
   "source": []
  }
 ],
 "metadata": {
  "kernelspec": {
   "display_name": "Python 3",
   "language": "python",
   "name": "python3"
  },
  "language_info": {
   "codemirror_mode": {
    "name": "ipython",
    "version": 3
   },
   "file_extension": ".py",
   "mimetype": "text/x-python",
   "name": "python",
   "nbconvert_exporter": "python",
   "pygments_lexer": "ipython3",
   "version": "3.8.8"
  }
 },
 "nbformat": 4,
 "nbformat_minor": 4
}
